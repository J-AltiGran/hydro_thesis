{
 "cells": [
  {
   "cell_type": "markdown",
   "metadata": {},
   "source": [
    "## Stream flow data processing\n",
    "\n",
    "This script reads the stream flow measurements in L/min and transforms it into m3/s. The script expects four columns: one with date and time, one with the values, one for quality control with a Y for accepted values and N for discarded values, and finally one for comments. The third column is used for filtering. NaN-values are interpolated. The data is then resampled to daily values and exported.\n",
    "\n",
    "Joaquim Altimiras Granel, 2024"
   ]
  },
  {
   "cell_type": "code",
   "execution_count": 2,
   "metadata": {},
   "outputs": [],
   "source": [
    "# Import libraries\n",
    "\n",
    "import pandas as pd\n",
    "import matplotlib.pyplot as plt\n",
    "import os"
   ]
  },
  {
   "cell_type": "code",
   "execution_count": 3,
   "metadata": {},
   "outputs": [],
   "source": [
    "# Filter the data based on the third column and save it into a new dataframe\n",
    "\n",
    "# Input original file path\n",
    "file_path = input(\"Enter path for file:\")\n",
    "\n",
    "# Read the data in the file\n",
    "raw_data = pd.read_excel(file_path, usecols=[0,1,2,3], names=[\"date_time\", \"flow[L/min]\", \"Quality\", \"Comment\"])\n",
    "\n",
    "# Make first column datetime and index\n",
    "raw_data['date_time'] = pd.to_datetime(raw_data['date_time'])\n",
    "raw_data.set_index('date_time', inplace=True)\n",
    "\n",
    "# Convert flow from L/min to m3/s\n",
    "raw_data['flow[m3/s]'] = raw_data['flow[L/min]'] / 60000  # Convert flow rate to m3/s\n",
    "\n",
    "# Make a copy of raw_data before filtering\n",
    "filtered_data = raw_data.copy()\n",
    "\n",
    "# Filtering: If 'Quality' is not Y, then make the value a NaN-value\n",
    "filtered_data.loc[filtered_data['Quality'] != 'Y', 'flow[m3/s]'] = pd.NA\n",
    "\n",
    "# Linear interpolation: Replace NaN-values in 'flow' with linear interpolation\n",
    "filtered_data['flow[m3/s]'] = filtered_data['flow[m3/s]'].interpolate(method='linear')\n"
   ]
  },
  {
   "cell_type": "code",
   "execution_count": null,
   "metadata": {},
   "outputs": [],
   "source": [
    "# Plotting the filtered data (HOUR)\n",
    "\n",
    "# Plotting the \"flow[m3/s]\" column from the filtered_data DataFrame\n",
    "plt.figure(figsize=(10, 6)) # Sets the figure size for better readability\n",
    "plt.plot(filtered_data.index, filtered_data['flow[m3/s]'], label='Flow [m3/s]', color='blue', linestyle='-')\n",
    "\n",
    "# Adding title and labels\n",
    "plt.title('Filtered Data: Flow [m3/s] Over Time (HOUR)')\n",
    "plt.xlabel('Date Time')\n",
    "plt.ylabel('Flow [m3/s]')\n",
    "plt.xticks(rotation=45) # Rotates the x-axis labels for better readability\n",
    "plt.legend()\n",
    "plt.tight_layout() # Adjusts subplot params so that the subplot(s) fits in to the figure area\n",
    "\n",
    "# Adding a grid\n",
    "plt.grid(True, which='both', linestyle='--', linewidth=0.5)\n",
    "\n",
    "# Show the plot\n",
    "plt.show()"
   ]
  },
  {
   "cell_type": "code",
   "execution_count": 6,
   "metadata": {},
   "outputs": [],
   "source": [
    "# Resample data for daily values\n",
    "# IMPORTANT: The missing days are added and interpolated here\n",
    "\n",
    "# Resample daily\n",
    "df_daily = filtered_data.copy()\n",
    "daily_mean = df_daily['flow[m3/s]'].resample('D').mean()\n",
    "\n",
    "# Ensure all days in the range are included and interpolate missing days\n",
    "full_range_daily = daily_mean.reindex(pd.date_range(start=daily_mean.index.min(), end=daily_mean.index.max(), freq='D'))\n",
    "interpolated_daily = full_range_daily.interpolate(method='time')\n"
   ]
  },
  {
   "cell_type": "code",
   "execution_count": null,
   "metadata": {},
   "outputs": [],
   "source": [
    "# Plotting the filtered data (DAY)\n",
    "\n",
    "# Plotting the \"flow[m3/s]\" column from the daily_mean DataFrame\n",
    "plt.figure(figsize=(10, 6)) # Sets the figure size for better readability\n",
    "plt.plot(interpolated_daily.index, interpolated_daily.values, label='Flow [m3/s]', color='blue', linestyle='-')\n",
    "\n",
    "# Adding title and labels\n",
    "plt.title('Filtered Data: Avg. Flow [m3/s] per Day Over Time')\n",
    "plt.xlabel('Date Time')\n",
    "plt.ylabel('Flow [m3/s]')\n",
    "plt.xticks(rotation=45) # Rotates the x-axis labels for better readability\n",
    "plt.legend()\n",
    "plt.tight_layout() # Adjusts subplot params so that the subplot(s) fits in to the figure area\n",
    "\n",
    "# Adding a grid\n",
    "plt.grid(True, which='both', linestyle='--', linewidth=0.5)\n",
    "\n",
    "# Show the plot\n",
    "plt.show()"
   ]
  },
  {
   "cell_type": "code",
   "execution_count": null,
   "metadata": {},
   "outputs": [],
   "source": [
    "# Export the data (DAY)\n",
    "\n",
    "# Output file path, with name added!\n",
    "output_file_path = r\"2_data_processing\\2.6_flow_processing\\filtered_data_day.xlsx\"\n",
    "\n",
    "# Export the data\n",
    "daily_mean.to_excel(output_file_path, engine='openpyxl', index=True)\n",
    "\n",
    "# Confirmation\n",
    "print(\"Data exported successfully to:\", output_file_path)"
   ]
  }
 ],
 "metadata": {
  "kernelspec": {
   "display_name": "masters-thesis",
   "language": "python",
   "name": "python3"
  },
  "language_info": {
   "codemirror_mode": {
    "name": "ipython",
    "version": 3
   },
   "file_extension": ".py",
   "mimetype": "text/x-python",
   "name": "python",
   "nbconvert_exporter": "python",
   "pygments_lexer": "ipython3",
   "version": "3.11.8"
  }
 },
 "nbformat": 4,
 "nbformat_minor": 2
}
