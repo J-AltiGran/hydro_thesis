{
 "cells": [
  {
   "cell_type": "markdown",
   "metadata": {},
   "source": [
    "This script reads the temperature data from an Excel .xlsx-file with daily mean temperature. The Excel file must only contain two columns, one with date and time and the other with the values. It then creates a complete date range and exports the data to a new Excel file.\n",
    "\n",
    "Joaquim Altimiras Granel, 2024"
   ]
  },
  {
   "cell_type": "code",
   "execution_count": null,
   "metadata": {},
   "outputs": [],
   "source": [
    "# Import libraries\n",
    "\n",
    "import numpy as np\n",
    "import pandas as pd\n",
    "import os\n",
    "\n",
    "# Read temperature data\n",
    "\n",
    "# Enter path\n",
    "file_path=input(\"Enter the file path to the temperature data: \")            # Manually enter the file path to the data\n",
    "full_temp_file = pd.read_excel(file_path)                                   # Read the data               \n",
    "temp = full_temp_file.iloc[:, :2].set_index(full_temp_file.columns[0])      # Use only the first two columns\n",
    "temp = temp.squeeze()                                                       # Squeeze it to series\n",
    "print(\"The data type of the temp series is:\", type(temp))                   # Check format\n",
    "print(temp.head())                                                          # Print first values\n",
    "\n",
    "# IMPORTANT: Temperature data not complete, needs to be completed\n",
    "\n",
    "# Create a complete date range\n",
    "start_date = temp.index.min()\n",
    "end_date = temp.index.max()\n",
    "date_range = pd.date_range(start=start_date, end=end_date)\n",
    "\n",
    "# Reindex the time series to fill missing days with NaN\n",
    "temp = temp.reindex(date_range)\n",
    "\n",
    "# Export the adjusted precipitation data to an Excel file\n",
    "output_file_path = '2_data_processing/2.2_temperature_data/temperature_data.xlsx'       # Choose path for exported file\n",
    "temp.to_excel(output_file_path, header=True)                                            # Export\n",
    "\n",
    "print(f\"Adjusted temperature data has been saved to {output_file_path}\")                # Print location of exported file"
   ]
  }
 ],
 "metadata": {
  "kernelspec": {
   "display_name": "masters-thesis",
   "language": "python",
   "name": "python3"
  },
  "language_info": {
   "codemirror_mode": {
    "name": "ipython",
    "version": 3
   },
   "file_extension": ".py",
   "mimetype": "text/x-python",
   "name": "python",
   "nbconvert_exporter": "python",
   "pygments_lexer": "ipython3",
   "version": "3.11.8"
  }
 },
 "nbformat": 4,
 "nbformat_minor": 2
}
