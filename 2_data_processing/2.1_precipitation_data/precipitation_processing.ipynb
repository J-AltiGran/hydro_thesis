{
 "cells": [
  {
   "cell_type": "markdown",
   "metadata": {},
   "source": [
    "## Data processing for precipitation data\n",
    "\n",
    "This script reads the precipitation data from an Excel .xlsx-file with daily accumulated precipitation in the unit m/day and transforms it into mm/day. The Excel file must only contain two columns, one with date and time and the other with the values. It then exports the data to a new Excel file.\n",
    "\n",
    "Joaquim Altimiras Granel, 2024"
   ]
  },
  {
   "cell_type": "code",
   "execution_count": null,
   "metadata": {},
   "outputs": [],
   "source": [
    "# Import libraries\n",
    "\n",
    "import numpy as np\n",
    "import pandas as pd\n",
    "import os\n",
    "\n",
    "# Read precipitation data\n",
    "\n",
    "# Precipitation (Read it as m/day)\n",
    "file_path=input(\"Enter the file path to the precipitation data: \")                          # Manually enter the file path to the data\n",
    "prec = pd.read_excel(file_path, parse_dates=True, index_col=0, names=['prec']).squeeze()    # Read data in m/day\n",
    "prec = prec * 1000                                                                          # Transform to mm/day       \n",
    "print(prec.head())                                                                          # Prints the first values\n",
    "\n",
    "# Get output directory and file name from user\n",
    "#output_directory = input(\"Enter the directory path to save the adjusted precipitation data: \")  # Manually enter the directory path\n",
    "output_directory = \"../../backend_generated_files/inputs\"    # automatic\n",
    "output_file_name = 'precipitation_data_processed'  # Manually enter the file name\n",
    "\n",
    "# Ensure the file name has .xlsx extension\n",
    "if not output_file_name.endswith('.xlsx'):\n",
    "    output_file_name += '.xlsx'\n",
    "\n",
    "# Ensure the output directory exists\n",
    "if not os.path.exists(output_directory):\n",
    "    os.makedirs(output_directory)\n",
    "\n",
    "# Combine directory and file name to create full path\n",
    "output_file_path = os.path.join(output_directory, output_file_name)\n",
    "\n",
    "# Export the adjusted precipitation data to an Excel file\n",
    "prec.to_excel(output_file_path, header=True)                                                  # Export\n",
    "\n",
    "print(f\"Adjusted precipitation data has been saved to {output_file_path}\")                    # Print location of exported file"
   ]
  }
 ],
 "metadata": {
  "kernelspec": {
   "display_name": "masters-thesis",
   "language": "python",
   "name": "python3"
  },
  "language_info": {
   "codemirror_mode": {
    "name": "ipython",
    "version": 3
   },
   "file_extension": ".py",
   "mimetype": "text/x-python",
   "name": "python",
   "nbconvert_exporter": "python",
   "pygments_lexer": "ipython3",
   "version": "3.11.8"
  }
 },
 "nbformat": 4,
 "nbformat_minor": 2
}
