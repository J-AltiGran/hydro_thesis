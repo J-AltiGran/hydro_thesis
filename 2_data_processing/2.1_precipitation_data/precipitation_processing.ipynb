{
 "cells": [
  {
   "cell_type": "markdown",
   "metadata": {},
   "source": [
    "This script reads the precipitation data from an Excel .xlsx-file with daily accumulated precipitation in the unit m/day and transforms it into mm/day. The Excel file must only contain two columns, one with date and time and the other with the values. It then exports the data to a new Excel file.\n",
    "\n",
    "Joaquim Altimiras Granel, 2024"
   ]
  },
  {
   "cell_type": "code",
   "execution_count": null,
   "metadata": {},
   "outputs": [],
   "source": [
    "# Import libraries\n",
    "\n",
    "import numpy as np\n",
    "import pandas as pd\n",
    "import os\n",
    "\n",
    "# Read precipitation data\n",
    "\n",
    "# Precipitation (Read it as m/day)\n",
    "file_path=input(\"Enter the file path to the precipitation data: \")                          # Manually enter the file path to the data\n",
    "prec = pd.read_excel(file_path, parse_dates=True, index_col=0, names=['prec']).squeeze()    # Read data in m/day\n",
    "prec = prec * 1000                                                                          # Transform to mm/day       \n",
    "print(prec.head())                                                                          # Prints the first values\n",
    "\n",
    "# Export the adjusted precipitation data to an Excel file\n",
    "output_file_path = '2_data_processing/2.1_precipitation_data/precipitation_data.xlsx'       # Choose path for exported file\n",
    "prec.to_excel(output_file_path, header=True)                                                # Export\n",
    "\n",
    "print(f\"Adjusted precipitation data has been saved to {output_file_path}\")                  # Print location of exported file"
   ]
  }
 ],
 "metadata": {
  "kernelspec": {
   "display_name": "masters-thesis",
   "language": "python",
   "name": "python3"
  },
  "language_info": {
   "codemirror_mode": {
    "name": "ipython",
    "version": 3
   },
   "file_extension": ".py",
   "mimetype": "text/x-python",
   "name": "python",
   "nbconvert_exporter": "python",
   "pygments_lexer": "ipython3",
   "version": "3.11.8"
  }
 },
 "nbformat": 4,
 "nbformat_minor": 2
}
