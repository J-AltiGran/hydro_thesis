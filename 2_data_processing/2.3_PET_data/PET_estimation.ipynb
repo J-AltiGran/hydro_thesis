{
 "cells": [
  {
   "cell_type": "markdown",
   "metadata": {},
   "source": [
    "## Estimation of potential evapotranspiration (PET) based on differnet methods using the Python package *PyEt*  \n",
    "This script estimates potential evapotranspiration (PET) using 18 different methods in the Python package PyEt.\n",
    "It uses several meteorological parameters and needs the following parameter time series (with daily values): \n",
    "\n",
    "- mean temperature (tmean.xlsx)\n",
    "- max temperature (tmax.xlsx)\n",
    "- min temperature (tmin.xlsx)\n",
    "- mean relative humidity (rh.xlsx)\n",
    "- solar radiation [MJ m^(-2) d^(−1)] (rs.xlsx)\n",
    "- mean day wind speed (wind.xlsx)\n",
    "- Latitude\n",
    "- Elevation\n",
    "\n",
    "To simplify the use of this script, place each parameter time series in separate xlsx-files in 1_input_data\\PET_data and call them the name in parenthesis.\n",
    "\n",
    "Source: *https://pyet.readthedocs.io/en/latest/index.html*  \n",
    "\n",
    "Joaquim Altimiras Granel, 2024"
   ]
  },
  {
   "cell_type": "code",
   "execution_count": 4,
   "metadata": {},
   "outputs": [
    {
     "name": "stdout",
     "output_type": "stream",
     "text": [
      "Data successfully exported to C:\\Users\\JMAG\\OneDrive - Chalmers\\Arbetsfiler Joaquim\\Working material\\4_outputs\\potential_evapotranspiration\\pet_results_DF164.xlsx\n"
     ]
    }
   ],
   "source": [
    "# Import libraries\n",
    "\n",
    "import pandas as pd\n",
    "import pyet\n",
    "import numpy\n",
    "import pyet\n",
    "import os\n",
    "\n",
    "# Create an empty DataFrame to store the potential evapotranspiration (PE) results for different methods\n",
    "pet_results = pd.DataFrame()\n",
    "\n",
    "# Load each parameter rename each column to match the expected parameter name\n",
    "tmean_data = pd.read_excel(r\"1_input_data\\PET_data\\tmean.xlsx\", index_col=0, parse_dates=True)\n",
    "tmean_data.rename(columns={tmean_data.columns[0]: 'tmean'}, inplace=True)\n",
    "\n",
    "rh_data = pd.read_excel(r\"1_input_data\\PET_data\\rh.xlsx\", index_col=0, parse_dates=True)\n",
    "rh_data.rename(columns={rh_data.columns[0]: 'rh'}, inplace=True)\n",
    "\n",
    "rs_data = pd.read_excel(r\"1_input_data\\PET_data\\rs.xlsx\", index_col=0, parse_dates=True)\n",
    "rs_data.rename(columns={rs_data.columns[0]: 'rs'}, inplace=True)\n",
    "\n",
    "tmax_data = pd.read_excel(r\"1_input_data\\PET_data\\tmax.xlsx\", index_col=0, parse_dates=True)\n",
    "tmax_data.rename(columns={tmax_data.columns[0]: 'tmax'}, inplace=True)\n",
    "\n",
    "tmin_data = pd.read_excel(r\"1_input_data\\PET_data\\tmin.xlsx\", index_col=0, parse_dates=True)\n",
    "tmin_data.rename(columns={tmin_data.columns[0]: 'tmin'}, inplace=True)\n",
    "\n",
    "wind_data = pd.read_excel(r\"1_input_data\\PET_data\\wind.xlsx\", index_col=0, parse_dates=True)\n",
    "wind_data.rename(columns={wind_data.columns[0]: 'wind'}, inplace=True)\n",
    "\n",
    "# Define the latitude and elevation separately as single values\n",
    "lat_value = input(\"Enter the latitude of the location in decimal degrees: \")\n",
    "lat = float(lat_value) * numpy.pi / 180\n",
    "elevation_value = input(\"Enter the elevation of the location in meters above sea level: \")\n",
    "elevation = float(elevation_value)\n",
    "\n",
    "# Align Datasets\n",
    "# Combine all datasets into one DataFrame, aligning them based on datetime index\n",
    "combined_data = pd.concat([tmean_data, wind_data, rs_data, rh_data, tmax_data, tmin_data], axis=1, join=\"outer\")\n",
    "\n",
    "# Calculate Potential Evapotranspiration (PE) using pyet\n",
    "pet_results = pyet.calculate_all(tmean=combined_data[\"tmean\"], wind=combined_data[\"wind\"],\n",
    "                           rs=combined_data[\"rs\"], elevation=elevation,\n",
    "                           lat=lat, tmax=combined_data[\"tmax\"],\n",
    "                           tmin=combined_data[\"tmin\"], rh=combined_data[\"rh\"])\n",
    "\n",
    "# Reset index setting\n",
    "pet_results = pet_results.reset_index()\n",
    "\n",
    "# Save the PET DataFrame to a xlsx file\n",
    "# Input name of original file\n",
    "original_file_name = input(\"Enter the name of the file to save the PE results: \")\n",
    "\n",
    "# Create a directory to store the output file\n",
    "output_dir = r'2_data_processing\\2.3_PET_data'\n",
    "\n",
    "if not os.path.exists(output_dir):\n",
    "    os.makedirs(output_dir)\n",
    "\n",
    "# Generate the file name for the new Excel file\n",
    "base_file_name = os.path.basename(original_file_name)\n",
    "new_file_name = 'pet_results_' + base_file_name + '.xlsx'\n",
    "file_path = os.path.join(output_dir, new_file_name)\n",
    "\n",
    "# Export DataFrame to Excel\n",
    "try:\n",
    "    pet_results.to_excel(file_path, index=False)\n",
    "    print(f\"Data successfully exported to {file_path}\")\n",
    "except Exception as e:\n",
    "    print(f\"Error exporting data: {e}\")\n",
    "\n",
    "\n",
    "# Print a sample of the calculated PE DataFrame\n",
    "print(pet_results.head())"
   ]
  }
 ],
 "metadata": {
  "kernelspec": {
   "display_name": "masters-thesis",
   "language": "python",
   "name": "python3"
  },
  "language_info": {
   "codemirror_mode": {
    "name": "ipython",
    "version": 3
   },
   "file_extension": ".py",
   "mimetype": "text/x-python",
   "name": "python",
   "nbconvert_exporter": "python",
   "pygments_lexer": "ipython3",
   "version": "3.11.8"
  }
 },
 "nbformat": 4,
 "nbformat_minor": 2
}
